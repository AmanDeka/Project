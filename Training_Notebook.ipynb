{
  "cells": [
    {
      "cell_type": "code",
      "execution_count": null,
      "metadata": {
        "id": "95CcgmwVRSC3"
      },
      "outputs": [],
      "source": [
        "import tensorflow as tf\n",
        "from tensorflow import keras\n",
        "from keras.preprocessing.image import ImageDataGenerator\n",
        "import keras.layers as layers\n",
        "import os\n",
        "import matplotlib.pyplot as plt\n",
        "import glob\n",
        "import numpy as np"
      ]
    },
    {
      "cell_type": "code",
      "execution_count": null,
      "metadata": {
        "colab": {
          "base_uri": "https://localhost:8080/"
        },
        "id": "3Hr7qNea22SM",
        "outputId": "e7d945f4-3bd9-4e9f-cc3e-74514f5ee619"
      },
      "outputs": [
        {
          "output_type": "stream",
          "name": "stdout",
          "text": [
            "Mounted at /content/drive\n"
          ]
        }
      ],
      "source": [
        "from google.colab import drive\n",
        "drive.mount('/content/drive')"
      ]
    },
    {
      "cell_type": "code",
      "execution_count": null,
      "metadata": {
        "colab": {
          "base_uri": "https://localhost:8080/"
        },
        "id": "4mVxpluYS2sE",
        "outputId": "cb90f4e0-9e78-4512-ca87-a7df1b05d305"
      },
      "outputs": [
        {
          "output_type": "stream",
          "name": "stdout",
          "text": [
            "Archive:  /content/drive/MyDrive/Scalograms.zip\n",
            "  inflating: /content/Data/Neural Project/MATLAB Drive/Scalograms/ARR/ARR_1.jpg  \n",
            "  inflating: /content/Data/Neural Project/MATLAB Drive/Scalograms/ARR/ARR_10.jpg  \n",
            "  inflating: /content/Data/Neural Project/MATLAB Drive/Scalograms/ARR/ARR_11.jpg  \n",
            "  inflating: /content/Data/Neural Project/MATLAB Drive/Scalograms/ARR/ARR_12.jpg  \n",
            "  inflating: /content/Data/Neural Project/MATLAB Drive/Scalograms/ARR/ARR_13.jpg  \n",
            "  inflating: /content/Data/Neural Project/MATLAB Drive/Scalograms/ARR/ARR_14.jpg  \n",
            "  inflating: /content/Data/Neural Project/MATLAB Drive/Scalograms/ARR/ARR_15.jpg  \n",
            "  inflating: /content/Data/Neural Project/MATLAB Drive/Scalograms/ARR/ARR_16.jpg  \n",
            "  inflating: /content/Data/Neural Project/MATLAB Drive/Scalograms/ARR/ARR_17.jpg  \n",
            "  inflating: /content/Data/Neural Project/MATLAB Drive/Scalograms/ARR/ARR_18.jpg  \n",
            "  inflating: /content/Data/Neural Project/MATLAB Drive/Scalograms/ARR/ARR_19.jpg  \n",
            "  inflating: /content/Data/Neural Project/MATLAB Drive/Scalograms/ARR/ARR_2.jpg  \n",
            "  inflating: /content/Data/Neural Project/MATLAB Drive/Scalograms/ARR/ARR_20.jpg  \n",
            "  inflating: /content/Data/Neural Project/MATLAB Drive/Scalograms/ARR/ARR_21.jpg  \n",
            "  inflating: /content/Data/Neural Project/MATLAB Drive/Scalograms/ARR/ARR_22.jpg  \n",
            "  inflating: /content/Data/Neural Project/MATLAB Drive/Scalograms/ARR/ARR_23.jpg  \n",
            "  inflating: /content/Data/Neural Project/MATLAB Drive/Scalograms/ARR/ARR_24.jpg  \n",
            "  inflating: /content/Data/Neural Project/MATLAB Drive/Scalograms/ARR/ARR_25.jpg  \n",
            "  inflating: /content/Data/Neural Project/MATLAB Drive/Scalograms/ARR/ARR_26.jpg  \n",
            "  inflating: /content/Data/Neural Project/MATLAB Drive/Scalograms/ARR/ARR_27.jpg  \n",
            "  inflating: /content/Data/Neural Project/MATLAB Drive/Scalograms/ARR/ARR_28.jpg  \n",
            "  inflating: /content/Data/Neural Project/MATLAB Drive/Scalograms/ARR/ARR_29.jpg  \n",
            "  inflating: /content/Data/Neural Project/MATLAB Drive/Scalograms/ARR/ARR_3.jpg  \n",
            "  inflating: /content/Data/Neural Project/MATLAB Drive/Scalograms/ARR/ARR_30.jpg  \n",
            "  inflating: /content/Data/Neural Project/MATLAB Drive/Scalograms/ARR/ARR_31.jpg  \n",
            "  inflating: /content/Data/Neural Project/MATLAB Drive/Scalograms/ARR/ARR_32.jpg  \n",
            "  inflating: /content/Data/Neural Project/MATLAB Drive/Scalograms/ARR/ARR_33.jpg  \n",
            "  inflating: /content/Data/Neural Project/MATLAB Drive/Scalograms/ARR/ARR_34.jpg  \n",
            "  inflating: /content/Data/Neural Project/MATLAB Drive/Scalograms/ARR/ARR_35.jpg  \n",
            "  inflating: /content/Data/Neural Project/MATLAB Drive/Scalograms/ARR/ARR_36.jpg  \n",
            "  inflating: /content/Data/Neural Project/MATLAB Drive/Scalograms/ARR/ARR_37.jpg  \n",
            "  inflating: /content/Data/Neural Project/MATLAB Drive/Scalograms/ARR/ARR_38.jpg  \n",
            "  inflating: /content/Data/Neural Project/MATLAB Drive/Scalograms/ARR/ARR_39.jpg  \n",
            "  inflating: /content/Data/Neural Project/MATLAB Drive/Scalograms/ARR/ARR_4.jpg  \n",
            "  inflating: /content/Data/Neural Project/MATLAB Drive/Scalograms/ARR/ARR_40.jpg  \n",
            "  inflating: /content/Data/Neural Project/MATLAB Drive/Scalograms/ARR/ARR_41.jpg  \n",
            "  inflating: /content/Data/Neural Project/MATLAB Drive/Scalograms/ARR/ARR_42.jpg  \n",
            "  inflating: /content/Data/Neural Project/MATLAB Drive/Scalograms/ARR/ARR_43.jpg  \n",
            "  inflating: /content/Data/Neural Project/MATLAB Drive/Scalograms/ARR/ARR_44.jpg  \n",
            "  inflating: /content/Data/Neural Project/MATLAB Drive/Scalograms/ARR/ARR_45.jpg  \n",
            "  inflating: /content/Data/Neural Project/MATLAB Drive/Scalograms/ARR/ARR_46.jpg  \n",
            "  inflating: /content/Data/Neural Project/MATLAB Drive/Scalograms/ARR/ARR_47.jpg  \n",
            "  inflating: /content/Data/Neural Project/MATLAB Drive/Scalograms/ARR/ARR_48.jpg  \n",
            "  inflating: /content/Data/Neural Project/MATLAB Drive/Scalograms/ARR/ARR_49.jpg  \n",
            "  inflating: /content/Data/Neural Project/MATLAB Drive/Scalograms/ARR/ARR_5.jpg  \n",
            "  inflating: /content/Data/Neural Project/MATLAB Drive/Scalograms/ARR/ARR_50.jpg  \n",
            "  inflating: /content/Data/Neural Project/MATLAB Drive/Scalograms/ARR/ARR_51.jpg  \n",
            "  inflating: /content/Data/Neural Project/MATLAB Drive/Scalograms/ARR/ARR_52.jpg  \n",
            "  inflating: /content/Data/Neural Project/MATLAB Drive/Scalograms/ARR/ARR_53.jpg  \n",
            "  inflating: /content/Data/Neural Project/MATLAB Drive/Scalograms/ARR/ARR_54.jpg  \n",
            "  inflating: /content/Data/Neural Project/MATLAB Drive/Scalograms/ARR/ARR_55.jpg  \n",
            "  inflating: /content/Data/Neural Project/MATLAB Drive/Scalograms/ARR/ARR_56.jpg  \n",
            "  inflating: /content/Data/Neural Project/MATLAB Drive/Scalograms/ARR/ARR_57.jpg  \n",
            "  inflating: /content/Data/Neural Project/MATLAB Drive/Scalograms/ARR/ARR_58.jpg  \n",
            "  inflating: /content/Data/Neural Project/MATLAB Drive/Scalograms/ARR/ARR_59.jpg  \n",
            "  inflating: /content/Data/Neural Project/MATLAB Drive/Scalograms/ARR/ARR_6.jpg  \n",
            "  inflating: /content/Data/Neural Project/MATLAB Drive/Scalograms/ARR/ARR_60.jpg  \n",
            "  inflating: /content/Data/Neural Project/MATLAB Drive/Scalograms/ARR/ARR_61.jpg  \n",
            "  inflating: /content/Data/Neural Project/MATLAB Drive/Scalograms/ARR/ARR_62.jpg  \n",
            "  inflating: /content/Data/Neural Project/MATLAB Drive/Scalograms/ARR/ARR_63.jpg  \n",
            "  inflating: /content/Data/Neural Project/MATLAB Drive/Scalograms/ARR/ARR_64.jpg  \n",
            "  inflating: /content/Data/Neural Project/MATLAB Drive/Scalograms/ARR/ARR_65.jpg  \n",
            "  inflating: /content/Data/Neural Project/MATLAB Drive/Scalograms/ARR/ARR_66.jpg  \n",
            "  inflating: /content/Data/Neural Project/MATLAB Drive/Scalograms/ARR/ARR_67.jpg  \n",
            "  inflating: /content/Data/Neural Project/MATLAB Drive/Scalograms/ARR/ARR_68.jpg  \n",
            "  inflating: /content/Data/Neural Project/MATLAB Drive/Scalograms/ARR/ARR_69.jpg  \n",
            "  inflating: /content/Data/Neural Project/MATLAB Drive/Scalograms/ARR/ARR_7.jpg  \n",
            "  inflating: /content/Data/Neural Project/MATLAB Drive/Scalograms/ARR/ARR_70.jpg  \n",
            "  inflating: /content/Data/Neural Project/MATLAB Drive/Scalograms/ARR/ARR_71.jpg  \n",
            "  inflating: /content/Data/Neural Project/MATLAB Drive/Scalograms/ARR/ARR_72.jpg  \n",
            "  inflating: /content/Data/Neural Project/MATLAB Drive/Scalograms/ARR/ARR_73.jpg  \n",
            "  inflating: /content/Data/Neural Project/MATLAB Drive/Scalograms/ARR/ARR_74.jpg  \n",
            "  inflating: /content/Data/Neural Project/MATLAB Drive/Scalograms/ARR/ARR_75.jpg  \n",
            "  inflating: /content/Data/Neural Project/MATLAB Drive/Scalograms/ARR/ARR_76.jpg  \n",
            "  inflating: /content/Data/Neural Project/MATLAB Drive/Scalograms/ARR/ARR_77.jpg  \n",
            "  inflating: /content/Data/Neural Project/MATLAB Drive/Scalograms/ARR/ARR_78.jpg  \n",
            "  inflating: /content/Data/Neural Project/MATLAB Drive/Scalograms/ARR/ARR_79.jpg  \n",
            "  inflating: /content/Data/Neural Project/MATLAB Drive/Scalograms/ARR/ARR_8.jpg  \n",
            "  inflating: /content/Data/Neural Project/MATLAB Drive/Scalograms/ARR/ARR_80.jpg  \n",
            "  inflating: /content/Data/Neural Project/MATLAB Drive/Scalograms/ARR/ARR_81.jpg  \n",
            "  inflating: /content/Data/Neural Project/MATLAB Drive/Scalograms/ARR/ARR_82.jpg  \n",
            "  inflating: /content/Data/Neural Project/MATLAB Drive/Scalograms/ARR/ARR_83.jpg  \n",
            "  inflating: /content/Data/Neural Project/MATLAB Drive/Scalograms/ARR/ARR_84.jpg  \n",
            "  inflating: /content/Data/Neural Project/MATLAB Drive/Scalograms/ARR/ARR_85.jpg  \n",
            "  inflating: /content/Data/Neural Project/MATLAB Drive/Scalograms/ARR/ARR_86.jpg  \n",
            "  inflating: /content/Data/Neural Project/MATLAB Drive/Scalograms/ARR/ARR_87.jpg  \n",
            "  inflating: /content/Data/Neural Project/MATLAB Drive/Scalograms/ARR/ARR_88.jpg  \n",
            "  inflating: /content/Data/Neural Project/MATLAB Drive/Scalograms/ARR/ARR_89.jpg  \n",
            "  inflating: /content/Data/Neural Project/MATLAB Drive/Scalograms/ARR/ARR_9.jpg  \n",
            "  inflating: /content/Data/Neural Project/MATLAB Drive/Scalograms/ARR/ARR_90.jpg  \n",
            "  inflating: /content/Data/Neural Project/MATLAB Drive/Scalograms/ARR/ARR_91.jpg  \n",
            "  inflating: /content/Data/Neural Project/MATLAB Drive/Scalograms/ARR/ARR_92.jpg  \n",
            "  inflating: /content/Data/Neural Project/MATLAB Drive/Scalograms/ARR/ARR_93.jpg  \n",
            "  inflating: /content/Data/Neural Project/MATLAB Drive/Scalograms/ARR/ARR_94.jpg  \n",
            "  inflating: /content/Data/Neural Project/MATLAB Drive/Scalograms/ARR/ARR_95.jpg  \n",
            "  inflating: /content/Data/Neural Project/MATLAB Drive/Scalograms/ARR/ARR_96.jpg  \n",
            "  inflating: /content/Data/Neural Project/MATLAB Drive/Scalograms/CHF/CHF_100.jpg  \n",
            "  inflating: /content/Data/Neural Project/MATLAB Drive/Scalograms/CHF/CHF_101.jpg  \n",
            "  inflating: /content/Data/Neural Project/MATLAB Drive/Scalograms/CHF/CHF_102.jpg  \n",
            "  inflating: /content/Data/Neural Project/MATLAB Drive/Scalograms/CHF/CHF_103.jpg  \n",
            "  inflating: /content/Data/Neural Project/MATLAB Drive/Scalograms/CHF/CHF_104.jpg  \n",
            "  inflating: /content/Data/Neural Project/MATLAB Drive/Scalograms/CHF/CHF_105.jpg  \n",
            "  inflating: /content/Data/Neural Project/MATLAB Drive/Scalograms/CHF/CHF_106.jpg  \n",
            "  inflating: /content/Data/Neural Project/MATLAB Drive/Scalograms/CHF/CHF_107.jpg  \n",
            "  inflating: /content/Data/Neural Project/MATLAB Drive/Scalograms/CHF/CHF_108.jpg  \n",
            "  inflating: /content/Data/Neural Project/MATLAB Drive/Scalograms/CHF/CHF_109.jpg  \n",
            "  inflating: /content/Data/Neural Project/MATLAB Drive/Scalograms/CHF/CHF_110.jpg  \n",
            "  inflating: /content/Data/Neural Project/MATLAB Drive/Scalograms/CHF/CHF_111.jpg  \n",
            "  inflating: /content/Data/Neural Project/MATLAB Drive/Scalograms/CHF/CHF_112.jpg  \n",
            "  inflating: /content/Data/Neural Project/MATLAB Drive/Scalograms/CHF/CHF_113.jpg  \n",
            "  inflating: /content/Data/Neural Project/MATLAB Drive/Scalograms/CHF/CHF_114.jpg  \n",
            "  inflating: /content/Data/Neural Project/MATLAB Drive/Scalograms/CHF/CHF_115.jpg  \n",
            "  inflating: /content/Data/Neural Project/MATLAB Drive/Scalograms/CHF/CHF_116.jpg  \n",
            "  inflating: /content/Data/Neural Project/MATLAB Drive/Scalograms/CHF/CHF_117.jpg  \n",
            "  inflating: /content/Data/Neural Project/MATLAB Drive/Scalograms/CHF/CHF_118.jpg  \n",
            "  inflating: /content/Data/Neural Project/MATLAB Drive/Scalograms/CHF/CHF_119.jpg  \n",
            "  inflating: /content/Data/Neural Project/MATLAB Drive/Scalograms/CHF/CHF_120.jpg  \n",
            "  inflating: /content/Data/Neural Project/MATLAB Drive/Scalograms/CHF/CHF_121.jpg  \n",
            "  inflating: /content/Data/Neural Project/MATLAB Drive/Scalograms/CHF/CHF_122.jpg  \n",
            "  inflating: /content/Data/Neural Project/MATLAB Drive/Scalograms/CHF/CHF_123.jpg  \n",
            "  inflating: /content/Data/Neural Project/MATLAB Drive/Scalograms/CHF/CHF_124.jpg  \n",
            "  inflating: /content/Data/Neural Project/MATLAB Drive/Scalograms/CHF/CHF_125.jpg  \n",
            "  inflating: /content/Data/Neural Project/MATLAB Drive/Scalograms/CHF/CHF_126.jpg  \n",
            "  inflating: /content/Data/Neural Project/MATLAB Drive/Scalograms/CHF/CHF_97.jpg  \n",
            "  inflating: /content/Data/Neural Project/MATLAB Drive/Scalograms/CHF/CHF_98.jpg  \n",
            "  inflating: /content/Data/Neural Project/MATLAB Drive/Scalograms/CHF/CHF_99.jpg  \n",
            "  inflating: /content/Data/Neural Project/MATLAB Drive/Scalograms/NSR/NSR_127.jpg  \n",
            "  inflating: /content/Data/Neural Project/MATLAB Drive/Scalograms/NSR/NSR_128.jpg  \n",
            "  inflating: /content/Data/Neural Project/MATLAB Drive/Scalograms/NSR/NSR_129.jpg  \n",
            "  inflating: /content/Data/Neural Project/MATLAB Drive/Scalograms/NSR/NSR_130.jpg  \n",
            "  inflating: /content/Data/Neural Project/MATLAB Drive/Scalograms/NSR/NSR_131.jpg  \n",
            "  inflating: /content/Data/Neural Project/MATLAB Drive/Scalograms/NSR/NSR_132.jpg  \n",
            "  inflating: /content/Data/Neural Project/MATLAB Drive/Scalograms/NSR/NSR_133.jpg  \n",
            "  inflating: /content/Data/Neural Project/MATLAB Drive/Scalograms/NSR/NSR_134.jpg  \n",
            "  inflating: /content/Data/Neural Project/MATLAB Drive/Scalograms/NSR/NSR_135.jpg  \n",
            "  inflating: /content/Data/Neural Project/MATLAB Drive/Scalograms/NSR/NSR_136.jpg  \n",
            "  inflating: /content/Data/Neural Project/MATLAB Drive/Scalograms/NSR/NSR_137.jpg  \n",
            "  inflating: /content/Data/Neural Project/MATLAB Drive/Scalograms/NSR/NSR_138.jpg  \n",
            "  inflating: /content/Data/Neural Project/MATLAB Drive/Scalograms/NSR/NSR_139.jpg  \n",
            "  inflating: /content/Data/Neural Project/MATLAB Drive/Scalograms/NSR/NSR_140.jpg  \n",
            "  inflating: /content/Data/Neural Project/MATLAB Drive/Scalograms/NSR/NSR_141.jpg  \n",
            "  inflating: /content/Data/Neural Project/MATLAB Drive/Scalograms/NSR/NSR_142.jpg  \n",
            "  inflating: /content/Data/Neural Project/MATLAB Drive/Scalograms/NSR/NSR_143.jpg  \n",
            "  inflating: /content/Data/Neural Project/MATLAB Drive/Scalograms/NSR/NSR_144.jpg  \n",
            "  inflating: /content/Data/Neural Project/MATLAB Drive/Scalograms/NSR/NSR_145.jpg  \n",
            "  inflating: /content/Data/Neural Project/MATLAB Drive/Scalograms/NSR/NSR_146.jpg  \n",
            "  inflating: /content/Data/Neural Project/MATLAB Drive/Scalograms/NSR/NSR_147.jpg  \n",
            "  inflating: /content/Data/Neural Project/MATLAB Drive/Scalograms/NSR/NSR_148.jpg  \n",
            "  inflating: /content/Data/Neural Project/MATLAB Drive/Scalograms/NSR/NSR_149.jpg  \n",
            "  inflating: /content/Data/Neural Project/MATLAB Drive/Scalograms/NSR/NSR_150.jpg  \n",
            "  inflating: /content/Data/Neural Project/MATLAB Drive/Scalograms/NSR/NSR_151.jpg  \n",
            "  inflating: /content/Data/Neural Project/MATLAB Drive/Scalograms/NSR/NSR_152.jpg  \n",
            "  inflating: /content/Data/Neural Project/MATLAB Drive/Scalograms/NSR/NSR_153.jpg  \n",
            "  inflating: /content/Data/Neural Project/MATLAB Drive/Scalograms/NSR/NSR_154.jpg  \n",
            "  inflating: /content/Data/Neural Project/MATLAB Drive/Scalograms/NSR/NSR_155.jpg  \n",
            "  inflating: /content/Data/Neural Project/MATLAB Drive/Scalograms/NSR/NSR_156.jpg  \n",
            "  inflating: /content/Data/Neural Project/MATLAB Drive/Scalograms/NSR/NSR_157.jpg  \n",
            "  inflating: /content/Data/Neural Project/MATLAB Drive/Scalograms/NSR/NSR_158.jpg  \n",
            "  inflating: /content/Data/Neural Project/MATLAB Drive/Scalograms/NSR/NSR_159.jpg  \n",
            "  inflating: /content/Data/Neural Project/MATLAB Drive/Scalograms/NSR/NSR_160.jpg  \n",
            "  inflating: /content/Data/Neural Project/MATLAB Drive/Scalograms/NSR/NSR_161.jpg  \n",
            "  inflating: /content/Data/Neural Project/MATLAB Drive/Scalograms/NSR/NSR_162.jpg  \n"
          ]
        }
      ],
      "source": [
        "!unzip /content/drive/MyDrive/Scalograms.zip -d /content/Data"
      ]
    },
    {
      "cell_type": "code",
      "execution_count": null,
      "metadata": {
        "colab": {
          "base_uri": "https://localhost:8080/"
        },
        "id": "HemRgFVfT9Lm",
        "outputId": "742e5b34-c2f9-4e0e-f178-0478b58b0944"
      },
      "outputs": [
        {
          "output_type": "stream",
          "name": "stdout",
          "text": [
            "Found 130 images belonging to 3 classes.\n",
            "Found 32 images belonging to 3 classes.\n"
          ]
        }
      ],
      "source": [
        "train_datagen = ImageDataGenerator(\n",
        "        rescale=1./255,\n",
        "        shear_range=0.2,\n",
        "        zoom_range=0.2,\n",
        "        horizontal_flip=True,\n",
        "        validation_split = 0.2\n",
        "        )\n",
        "\n",
        "\n",
        "train_generator = train_datagen.flow_from_directory(\n",
        "        '/content/Data/Neural Project/MATLAB Drive/Scalograms',\n",
        "        target_size=(512, 512),\n",
        "        batch_size=4,\n",
        "        class_mode='categorical',\n",
        "        subset = 'training',\n",
        "        color_mode = 'rgb'\n",
        "        )\n",
        "\n",
        "val_generator = train_datagen.flow_from_directory(\n",
        "        '/content/Data/Neural Project/MATLAB Drive/Scalograms',\n",
        "        target_size=(512, 512),\n",
        "        batch_size=4,\n",
        "        class_mode='categorical',\n",
        "        subset = 'validation',\n",
        "        color_mode = 'rgb'\n",
        "        )\n",
        "\n"
      ]
    },
    {
      "cell_type": "code",
      "execution_count": null,
      "metadata": {
        "id": "2atu3x_rRhlr",
        "colab": {
          "base_uri": "https://localhost:8080/"
        },
        "outputId": "a7250fc1-945c-4e28-dec9-c79346136626"
      },
      "outputs": [
        {
          "output_type": "stream",
          "name": "stdout",
          "text": [
            "Downloading data from https://storage.googleapis.com/tensorflow/keras-applications/resnet/resnet50_weights_tf_dim_ordering_tf_kernels_notop.h5\n",
            "94765736/94765736 [==============================] - 6s 0us/step\n"
          ]
        }
      ],
      "source": [
        "preprocess = keras.applications.resnet.preprocess_input\n",
        "resnet_head = keras.applications.ResNet50(\n",
        "    include_top=False,\n",
        "    weights=\"imagenet\",\n",
        "    input_shape=(512,512,3)\n",
        ")\n",
        "resnet_head.trainable = False"
      ]
    },
    {
      "cell_type": "code",
      "execution_count": null,
      "metadata": {
        "id": "DsX01VpoRmIM"
      },
      "outputs": [],
      "source": [
        "early_stopping = tf.keras.callbacks.EarlyStopping(monitor='val_loss', patience=5)\n",
        "inp = keras.Input(shape = (512,512,3),dtype = tf.float64)\n",
        "x = preprocess(inp)\n",
        "x = resnet_head(x)\n",
        "x = layers.GlobalAveragePooling2D()(x)\n",
        "x = layers.Dense(3,activation = 'softmax')(x)\n",
        "model = keras.Model(inp,x)\n",
        "model.compile(optimizer = 'sgd',\n",
        "              loss = 'categorical_crossentropy',\n",
        "              metrics = ['categorical_accuracy']\n",
        "            )"
      ]
    },
    {
      "cell_type": "code",
      "execution_count": null,
      "metadata": {
        "colab": {
          "base_uri": "https://localhost:8080/",
          "height": 644
        },
        "id": "FQK9vDWEUC9W",
        "outputId": "a0cba98f-1db4-43e7-8296-b224dac42768"
      },
      "outputs": [
        {
          "data": {
            "image/png": "[encoded data removed]",
            "text/plain": [
              "<IPython.core.display.Image object>"
            ]
          },
          "execution_count": 18,
          "metadata": {},
          "output_type": "execute_result"
        }
      ],
      "source": [
        "keras.utils.plot_model(model,show_shapes = True)"
      ]
    },
    {
      "cell_type": "code",
      "execution_count": null,
      "metadata": {
        "colab": {
          "background_save": true,
          "base_uri": "https://localhost:8080/"
        },
        "id": "r2BjiRD9X9rs",
        "outputId": "99bad6b3-a1b6-4c62-f2e7-7562c834cc69"
      },
      "outputs": [
        {
          "name": "stdout",
          "output_type": "stream",
          "text": [
            "Epoch 1/50\n",
            "33/33 [==============================] - 15s 368ms/step - loss: 6.8201 - categorical_accuracy: 0.4923 - val_loss: 8.3418 - val_categorical_accuracy: 0.2188\n",
            "Epoch 2/50\n",
            "33/33 [==============================] - 11s 320ms/step - loss: 7.9989 - categorical_accuracy: 0.4308 - val_loss: 12.1902 - val_categorical_accuracy: 0.2188\n",
            "Epoch 3/50\n",
            "33/33 [==============================] - 11s 322ms/step - loss: 7.0044 - categorical_accuracy: 0.4769 - val_loss: 15.7069 - val_categorical_accuracy: 0.1875\n",
            "Epoch 4/50\n",
            "33/33 [==============================] - 9s 276ms/step - loss: 9.1366 - categorical_accuracy: 0.3692 - val_loss: 9.1702 - val_categorical_accuracy: 0.5938\n",
            "Epoch 5/50\n",
            "33/33 [==============================] - 10s 312ms/step - loss: 8.1401 - categorical_accuracy: 0.4615 - val_loss: 2.8416 - val_categorical_accuracy: 0.5938\n",
            "Epoch 6/50\n",
            "33/33 [==============================] - 10s 317ms/step - loss: 7.8332 - categorical_accuracy: 0.4615 - val_loss: 4.7680 - val_categorical_accuracy: 0.2188\n",
            "Epoch 7/50\n",
            "33/33 [==============================] - 10s 296ms/step - loss: 9.5976 - categorical_accuracy: 0.3615 - val_loss: 8.3343 - val_categorical_accuracy: 0.5938\n",
            "Epoch 8/50\n",
            "33/33 [==============================] - 10s 317ms/step - loss: 8.3785 - categorical_accuracy: 0.4231 - val_loss: 11.6276 - val_categorical_accuracy: 0.5938\n",
            "Epoch 9/50\n",
            "33/33 [==============================] - 12s 377ms/step - loss: 6.4946 - categorical_accuracy: 0.5000 - val_loss: 8.5932 - val_categorical_accuracy: 0.5938\n",
            "Epoch 10/50\n",
            "33/33 [==============================] - 10s 316ms/step - loss: 7.7706 - categorical_accuracy: 0.4154 - val_loss: 3.2528 - val_categorical_accuracy: 0.5938\n",
            "Epoch 11/50\n",
            "33/33 [==============================] - 10s 314ms/step - loss: 8.9066 - categorical_accuracy: 0.3923 - val_loss: 6.9589 - val_categorical_accuracy: 0.5938\n",
            "Epoch 12/50\n",
            "33/33 [==============================] - 11s 318ms/step - loss: 7.2900 - categorical_accuracy: 0.4308 - val_loss: 9.3245 - val_categorical_accuracy: 0.2188\n",
            "Epoch 13/50\n",
            "33/33 [==============================] - 10s 319ms/step - loss: 6.6614 - categorical_accuracy: 0.4615 - val_loss: 5.8050 - val_categorical_accuracy: 0.4688\n",
            "Epoch 14/50\n",
            "33/33 [==============================] - 9s 276ms/step - loss: 7.4023 - categorical_accuracy: 0.4462 - val_loss: 3.9180 - val_categorical_accuracy: 0.1875\n",
            "Epoch 15/50\n",
            "33/33 [==============================] - 10s 311ms/step - loss: 5.4890 - categorical_accuracy: 0.5077 - val_loss: 6.9808 - val_categorical_accuracy: 0.5938\n",
            "Epoch 16/50\n",
            "33/33 [==============================] - 10s 316ms/step - loss: 6.5729 - categorical_accuracy: 0.5000 - val_loss: 3.0886 - val_categorical_accuracy: 0.6875\n",
            "Epoch 17/50\n",
            "33/33 [==============================] - 10s 296ms/step - loss: 8.3517 - categorical_accuracy: 0.4154 - val_loss: 2.6119 - val_categorical_accuracy: 0.6562\n",
            "Epoch 18/50\n",
            "33/33 [==============================] - 10s 314ms/step - loss: 7.9565 - categorical_accuracy: 0.4231 - val_loss: 7.4274 - val_categorical_accuracy: 0.5938\n",
            "Epoch 19/50\n",
            "33/33 [==============================] - 10s 298ms/step - loss: 5.4474 - categorical_accuracy: 0.5154 - val_loss: 4.0534 - val_categorical_accuracy: 0.1875\n",
            "Epoch 20/50\n",
            "33/33 [==============================] - 10s 288ms/step - loss: 6.0069 - categorical_accuracy: 0.5000 - val_loss: 5.3260 - val_categorical_accuracy: 0.3750\n",
            "Epoch 21/50\n",
            "33/33 [==============================] - 10s 317ms/step - loss: 5.7783 - categorical_accuracy: 0.5000 - val_loss: 5.6291 - val_categorical_accuracy: 0.2500\n",
            "Epoch 22/50\n",
            "33/33 [==============================] - 10s 302ms/step - loss: 6.5415 - categorical_accuracy: 0.4923 - val_loss: 2.3918 - val_categorical_accuracy: 0.5938\n",
            "Epoch 23/50\n",
            "33/33 [==============================] - 11s 319ms/step - loss: 5.9635 - categorical_accuracy: 0.4692 - val_loss: 32.5283 - val_categorical_accuracy: 0.1875\n",
            "Epoch 24/50\n",
            "33/33 [==============================] - 10s 315ms/step - loss: 8.7992 - categorical_accuracy: 0.3846 - val_loss: 5.0843 - val_categorical_accuracy: 0.5938\n",
            "Epoch 25/50\n",
            "33/33 [==============================] - 10s 297ms/step - loss: 5.8773 - categorical_accuracy: 0.5385 - val_loss: 1.6738 - val_categorical_accuracy: 0.4688\n",
            "Epoch 26/50\n",
            "33/33 [==============================] - 9s 283ms/step - loss: 8.5648 - categorical_accuracy: 0.3692 - val_loss: 8.2123 - val_categorical_accuracy: 0.5938\n",
            "Epoch 27/50\n",
            "33/33 [==============================] - 10s 313ms/step - loss: 6.8516 - categorical_accuracy: 0.4692 - val_loss: 5.7110 - val_categorical_accuracy: 0.5938\n",
            "Epoch 28/50\n",
            "33/33 [==============================] - 10s 312ms/step - loss: 5.2216 - categorical_accuracy: 0.5000 - val_loss: 3.1300 - val_categorical_accuracy: 0.3438\n",
            "Epoch 29/50\n",
            "33/33 [==============================] - 10s 298ms/step - loss: 8.5941 - categorical_accuracy: 0.4154 - val_loss: 3.2334 - val_categorical_accuracy: 0.5938\n",
            "Epoch 30/50\n",
            "33/33 [==============================] - 10s 287ms/step - loss: 6.1349 - categorical_accuracy: 0.4692 - val_loss: 9.6051 - val_categorical_accuracy: 0.1875\n",
            "Epoch 31/50\n",
            "33/33 [==============================] - 10s 314ms/step - loss: 7.0471 - categorical_accuracy: 0.4615 - val_loss: 1.6601 - val_categorical_accuracy: 0.6562\n",
            "Epoch 32/50\n",
            "33/33 [==============================] - 10s 315ms/step - loss: 6.6519 - categorical_accuracy: 0.4462 - val_loss: 12.3058 - val_categorical_accuracy: 0.5938\n",
            "Epoch 33/50\n",
            "33/33 [==============================] - 9s 284ms/step - loss: 5.1594 - categorical_accuracy: 0.5308 - val_loss: 15.4749 - val_categorical_accuracy: 0.1875\n",
            "Epoch 34/50\n",
            "33/33 [==============================] - 9s 283ms/step - loss: 6.0766 - categorical_accuracy: 0.4385 - val_loss: 1.4903 - val_categorical_accuracy: 0.6562\n",
            "Epoch 35/50\n",
            "33/33 [==============================] - 10s 317ms/step - loss: 5.6319 - categorical_accuracy: 0.4769 - val_loss: 2.6786 - val_categorical_accuracy: 0.6562\n",
            "Epoch 36/50\n",
            "33/33 [==============================] - 13s 394ms/step - loss: 6.5431 - categorical_accuracy: 0.4923 - val_loss: 4.7749 - val_categorical_accuracy: 0.1875\n",
            "Epoch 37/50\n",
            "33/33 [==============================] - 11s 319ms/step - loss: 5.7041 - categorical_accuracy: 0.4769 - val_loss: 14.9359 - val_categorical_accuracy: 0.2188\n",
            "Epoch 38/50\n",
            "33/33 [==============================] - 12s 380ms/step - loss: 5.3333 - categorical_accuracy: 0.5077 - val_loss: 3.5712 - val_categorical_accuracy: 0.3125\n",
            "Epoch 39/50\n",
            "33/33 [==============================] - 10s 314ms/step - loss: 8.2305 - categorical_accuracy: 0.3846 - val_loss: 1.9017 - val_categorical_accuracy: 0.5938\n",
            "Epoch 40/50\n",
            "33/33 [==============================] - 10s 315ms/step - loss: 6.1987 - categorical_accuracy: 0.5077 - val_loss: 3.0829 - val_categorical_accuracy: 0.5938\n",
            "Epoch 41/50\n",
            "33/33 [==============================] - 9s 273ms/step - loss: 7.2665 - categorical_accuracy: 0.4231 - val_loss: 4.1532 - val_categorical_accuracy: 0.4062\n",
            "Epoch 42/50\n",
            "33/33 [==============================] - 10s 294ms/step - loss: 5.6416 - categorical_accuracy: 0.4615 - val_loss: 13.2782 - val_categorical_accuracy: 0.5938\n",
            "Epoch 43/50\n",
            "33/33 [==============================] - 10s 316ms/step - loss: 4.8188 - categorical_accuracy: 0.5769 - val_loss: 4.2862 - val_categorical_accuracy: 0.6875\n",
            "Epoch 44/50\n",
            "33/33 [==============================] - 10s 318ms/step - loss: 5.8051 - categorical_accuracy: 0.4769 - val_loss: 6.3436 - val_categorical_accuracy: 0.5938\n",
            "Epoch 45/50\n",
            "33/33 [==============================] - 10s 296ms/step - loss: 7.6973 - categorical_accuracy: 0.4308 - val_loss: 6.0113 - val_categorical_accuracy: 0.5938\n",
            "Epoch 46/50\n",
            "33/33 [==============================] - 10s 313ms/step - loss: 4.1173 - categorical_accuracy: 0.5538 - val_loss: 5.3677 - val_categorical_accuracy: 0.5938\n",
            "Epoch 47/50\n",
            "33/33 [==============================] - 10s 295ms/step - loss: 6.5388 - categorical_accuracy: 0.4462 - val_loss: 4.9809 - val_categorical_accuracy: 0.6250\n",
            "Epoch 48/50\n",
            "33/33 [==============================] - 10s 314ms/step - loss: 5.1097 - categorical_accuracy: 0.5231 - val_loss: 1.9888 - val_categorical_accuracy: 0.6250\n",
            "Epoch 49/50\n",
            "33/33 [==============================] - 10s 309ms/step - loss: 6.3193 - categorical_accuracy: 0.4538 - val_loss: 6.1064 - val_categorical_accuracy: 0.1875\n",
            "Epoch 50/50\n",
            "33/33 [==============================] - 10s 310ms/step - loss: 5.9625 - categorical_accuracy: 0.5077 - val_loss: 7.8310 - val_categorical_accuracy: 0.5938\n"
          ]
        },
        {
          "data": {
            "text/plain": [
              "<keras.callbacks.History at 0x7efe30d35e70>"
            ]
          },
          "execution_count": 19,
          "metadata": {},
          "output_type": "execute_result"
        }
      ],
      "source": [
        "model.fit(\n",
        "        train_generator,\n",
        "        #steps_per_epoch=2000,\n",
        "        epochs=50,\n",
        "        validation_data=val_generator,\n",
        "        #validation_steps=800\n",
        "        )"
      ]
    },
    {
      "cell_type": "code",
      "execution_count": null,
      "metadata": {
        "id": "VqwLKP597dh4"
      },
      "outputs": [],
      "source": []
    },
    {
      "cell_type": "code",
      "execution_count": null,
      "metadata": {
        "id": "IMROFYKy0mJl"
      },
      "outputs": [],
      "source": [
        "model.save_weights('/content/drive/MyDrive/datasets/only_weights.h5')"
      ]
    },
    {
      "cell_type": "code",
      "execution_count": null,
      "metadata": {
        "id": "iC2ACXbs0rhk"
      },
      "outputs": [],
      "source": [
        "model.save('/content/drive/MyDrive/datasets/model_everything/')"
      ]
    },
    {
      "cell_type": "code",
      "execution_count": null,
      "metadata": {
        "id": "SGZ2xQhG01U7"
      },
      "outputs": [],
      "source": []
    }
  ],
  "metadata": {
    "accelerator": "GPU",
    "colab": {
      "provenance": []
    },
    "kernelspec": {
      "display_name": "Python 3",
      "name": "python3"
    },
    "language_info": {
      "name": "python"
    }
  },
  "nbformat": 4,
  "nbformat_minor": 0
}